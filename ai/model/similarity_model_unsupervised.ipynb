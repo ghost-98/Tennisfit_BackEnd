{
 "cells": [
  {
   "cell_type": "code",
   "execution_count": 9,
   "id": "ea300e37-0ddd-469c-8ef4-9cc722ec6638",
   "metadata": {
    "ExecuteTime": {
     "end_time": "2024-05-27T08:32:52.401661Z",
     "start_time": "2024-05-27T08:32:52.380657Z"
    }
   },
   "outputs": [],
   "source": [
    "import numpy as np\n",
    "import random\n",
    "\n",
    "# train dataset 집어넣기\n",
    "dataset = []\n",
    "\n",
    "B_forehand = np.load('../variable_dataset/Federer_B_Forehand_dataset.npy')\n",
    "B_backhand = np.load('../variable_dataset/Federer_B_Backhand_dataset.npy')\n",
    "B_backslice = np.load('../variable_dataset/Federer_B_BackSlice_dataset.npy')\n",
    "B_forevolley = np.load('../variable_dataset/Federer_B_ForeVolley_dataset.npy')\n",
    "B_backvolley = np.load('../variable_dataset/Federer_B_BackVolley_dataset.npy')\n",
    "B_smash = np.load('../variable_dataset/Federer_B_Smash_dataset.npy')\n",
    "B_serve = np.load('../variable_dataset/Federer_B_Serve_dataset.npy')\n",
    "\n",
    "for i in B_forehand:\n",
    "    dataset.append(i)\n",
    "for i in B_backhand:\n",
    "    dataset.append(i)\n",
    "for i in B_backslice:\n",
    "    dataset.append(i)\n",
    "for i in B_forevolley:\n",
    "    dataset.append(i)\n",
    "for i in B_backvolley:\n",
    "    dataset.append(i)\n",
    "for i in B_smash:\n",
    "    dataset.append(i)\n",
    "for i in B_serve:\n",
    "    dataset.append(i)"
   ]
  },
  {
   "cell_type": "code",
   "execution_count": 10,
   "id": "e9a243e6-751d-4dc9-b2d1-d466206df89f",
   "metadata": {},
   "outputs": [
    {
     "name": "stderr",
     "output_type": "stream",
     "text": [
      "[Parallel(n_jobs=1)]: Done  49 tasks      | elapsed:    0.0s\n",
      "[Parallel(n_jobs=1)]: Done 199 tasks      | elapsed:    0.0s\n",
      "[Parallel(n_jobs=1)]: Done  49 tasks      | elapsed:    0.0s\n",
      "[Parallel(n_jobs=1)]: Done 199 tasks      | elapsed:    0.0s\n"
     ]
    },
    {
     "name": "stdout",
     "output_type": "stream",
     "text": [
      "67.541 --> "
     ]
    },
    {
     "name": "stderr",
     "output_type": "stream",
     "text": [
      "[Parallel(n_jobs=1)]: Done  49 tasks      | elapsed:    0.0s\n",
      "[Parallel(n_jobs=1)]: Done 199 tasks      | elapsed:    0.0s\n"
     ]
    },
    {
     "name": "stdout",
     "output_type": "stream",
     "text": [
      "26.842 --> "
     ]
    },
    {
     "name": "stderr",
     "output_type": "stream",
     "text": [
      "[Parallel(n_jobs=1)]: Done  49 tasks      | elapsed:    0.0s\n",
      "[Parallel(n_jobs=1)]: Done 199 tasks      | elapsed:    0.0s\n"
     ]
    },
    {
     "name": "stdout",
     "output_type": "stream",
     "text": [
      "26.838 --> "
     ]
    },
    {
     "name": "stderr",
     "output_type": "stream",
     "text": [
      "[Parallel(n_jobs=1)]: Done  49 tasks      | elapsed:    0.0s\n",
      "[Parallel(n_jobs=1)]: Done 199 tasks      | elapsed:    0.0s\n"
     ]
    },
    {
     "name": "stdout",
     "output_type": "stream",
     "text": [
      "26.838 --> \n"
     ]
    },
    {
     "name": "stderr",
     "output_type": "stream",
     "text": [
      "[Parallel(n_jobs=1)]: Done  49 tasks      | elapsed:    0.0s\n",
      "[Parallel(n_jobs=1)]: Done 199 tasks      | elapsed:    0.0s\n"
     ]
    },
    {
     "data": {
      "text/plain": [
       "['similarity_forevolley_model.joblib']"
      ]
     },
     "execution_count": 10,
     "metadata": {},
     "output_type": "execute_result"
    }
   ],
   "source": [
    "import joblib\n",
    "from tslearn.clustering import TimeSeriesKMeans\n",
    "from tslearn.metrics import dtw\n",
    "\n",
    "n_clusters = 1\n",
    "model = TimeSeriesKMeans(n_clusters=n_clusters, metric=\"dtw\", verbose=True, random_state=1234)\n",
    "labels = model.fit_predict(dataset)\n",
    "\n",
    "joblib.dump(model, './model_info/similarity_model.joblib')"
   ]
  },
  {
   "cell_type": "code",
   "execution_count": null,
   "id": "c4f8f47c",
   "metadata": {},
   "outputs": [],
   "source": [
    "labels = list(labels)\n",
    "\n",
    "cnt = 0\n",
    "with open(\"label.txt\", \"w\") as f:\n",
    "    for i in labels:\n",
    "        if cnt == 100:\n",
    "            f.write(\"\\n\")\n",
    "            cnt = 0\n",
    "        f.write(str(i))\n",
    "        f.write(\" \")\n",
    "        cnt += 1"
   ]
  }
 ],
 "metadata": {
  "kernelspec": {
   "display_name": "Python 3 (ipykernel)",
   "language": "python",
   "name": "python3"
  },
  "language_info": {
   "codemirror_mode": {
    "name": "ipython",
    "version": 3
   },
   "file_extension": ".py",
   "mimetype": "text/x-python",
   "name": "python",
   "nbconvert_exporter": "python",
   "pygments_lexer": "ipython3",
   "version": "3.11.9"
  }
 },
 "nbformat": 4,
 "nbformat_minor": 5
}
